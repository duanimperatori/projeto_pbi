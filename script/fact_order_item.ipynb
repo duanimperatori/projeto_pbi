{
 "cells": [
  {
   "cell_type": "code",
   "execution_count": 10,
   "metadata": {},
   "outputs": [],
   "source": [
    "%run ./work/lib.py"
   ]
  },
  {
   "cell_type": "code",
   "execution_count": 11,
   "metadata": {},
   "outputs": [],
   "source": [
    "from pyspark import SparkConf, SparkContext\n",
    "from pyspark.sql.session import SparkSession\n",
    "from pyspark.sql.types import StructType, StructField, LongType, StringType, DoubleType, DecimalType, TimestampType, DataType, IntegerType\n",
    "from pyspark.sql.functions import col, lit, trim, substring, concat, udf, upper, initcap\n",
    "from datetime import datetime\n",
    "import os"
   ]
  },
  {
   "cell_type": "code",
   "execution_count": 12,
   "metadata": {},
   "outputs": [
    {
     "name": "stderr",
     "output_type": "stream",
     "text": [
      "22/12/17 22:52:07 WARN Utils: Service 'SparkUI' could not bind on port 4040. Attempting port 4041.\n"
     ]
    }
   ],
   "source": [
    "conf = SparkConf() \\\n",
    "    .setAppName(\"projeto_pbi\") \\\n",
    "    .setSparkHome('./spark/home')\n",
    "\n",
    "LAKE_HOME = os.getenv(\"LAKE_HOME\", \"/spark/home\")\n",
    "\n",
    "sc = SparkContext.getOrCreate(conf=conf)\n",
    "spark = SparkSession(sc)"
   ]
  },
  {
   "cell_type": "code",
   "execution_count": 13,
   "metadata": {},
   "outputs": [],
   "source": [
    "TABLE_NAME = 'fact_order_item'"
   ]
  },
  {
   "cell_type": "code",
   "execution_count": 14,
   "metadata": {},
   "outputs": [
    {
     "name": "stderr",
     "output_type": "stream",
     "text": [
      "                                                                                \r"
     ]
    }
   ],
   "source": [
    "df = spark.read.csv('{}/dataset/e-commerce/01_extract/order_items_dataset.csv'.format(LAKE_HOME), header=True)\n",
    "\n",
    "df_item = \\\n",
    "    df.select(\n",
    "        col('order_id').cast(StringType()).alias('ID_ORDER'),\n",
    "        col('order_item_id').cast(StringType()).alias('NUM_ORDER_ITEM'),\n",
    "        col('product_id').cast(StringType()).alias('ID_PRODUCT'),\n",
    "        col('seller_id').cast(StringType()).alias('ID_SELLER'),\n",
    "        col('shipping_limit_date').cast(TimestampType()).alias('DAT_SHIPPING_LIMIT'),\n",
    "        col('price').cast(DecimalType(15,2)).alias('VAL_PRICE'),\n",
    "        col('freight_value').cast(DecimalType(15,2)).alias('VAL_FREIGHT'),\n",
    "    )\n",
    "\n",
    "order_sk = map_sk(spark=spark, table_name='fact_order')\n",
    "product_sk = map_sk(spark=spark, table_name='dim_product')\n",
    "seller_sk = map_sk(spark=spark, table_name='dim_seller')"
   ]
  },
  {
   "cell_type": "code",
   "execution_count": 15,
   "metadata": {},
   "outputs": [],
   "source": [
    "fact_order_item = \\\n",
    "    df_item \\\n",
    "        .withColumn('SK_ORDER', locate_sk(order_sk)(col('ID_ORDER'))) \\\n",
    "        .withColumn('SK_PRODUCT', locate_sk(product_sk)(col('ID_PRODUCT'))) \\\n",
    "        .withColumn('SK_SELLER', locate_sk(seller_sk)(col('ID_SELLER')))"
   ]
  },
  {
   "cell_type": "code",
   "execution_count": 16,
   "metadata": {},
   "outputs": [
    {
     "name": "stderr",
     "output_type": "stream",
     "text": [
      "                                                                                \r"
     ]
    }
   ],
   "source": [
    "fact_order_item = \\\n",
    "    fact_order_item.select(\n",
    "            col('SK_ORDER'),\n",
    "            col('SK_PRODUCT'),\n",
    "            col('SK_SELLER'),\n",
    "            col('NUM_ORDER_ITEM'),\n",
    "            col('DAT_SHIPPING_LIMIT'),\n",
    "            col('VAL_PRICE'),\n",
    "            col('VAL_FREIGHT'),  \n",
    "        )\n",
    "\n",
    "fact_order_item.write.mode('overwrite').csv('{}/dataset/e-commerce/04_fact/{}.csv'.format(LAKE_HOME, TABLE_NAME), header=True)"
   ]
  },
  {
   "cell_type": "code",
   "execution_count": 17,
   "metadata": {},
   "outputs": [],
   "source": [
    "spark.stop()"
   ]
  }
 ],
 "metadata": {
  "kernelspec": {
   "display_name": "Python 3 (ipykernel)",
   "language": "python",
   "name": "python3"
  },
  "language_info": {
   "codemirror_mode": {
    "name": "ipython",
    "version": 3
   },
   "file_extension": ".py",
   "mimetype": "text/x-python",
   "name": "python",
   "nbconvert_exporter": "python",
   "pygments_lexer": "ipython3",
   "version": "3.9.7"
  },
  "orig_nbformat": 4,
  "vscode": {
   "interpreter": {
    "hash": "d6f609d767e496b0113aff1f64a0dfe094cfd999fa1fbc24e122cf419b6d573c"
   }
  }
 },
 "nbformat": 4,
 "nbformat_minor": 2
}
