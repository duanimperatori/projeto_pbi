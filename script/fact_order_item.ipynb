{
 "cells": [
  {
   "cell_type": "code",
   "execution_count": 1,
   "metadata": {},
   "outputs": [],
   "source": [
    "#%run ./lib.py"
   ]
  },
  {
   "cell_type": "code",
   "execution_count": 2,
   "metadata": {},
   "outputs": [],
   "source": [
    "from pyspark import SparkConf, SparkContext\n",
    "from pyspark.sql.session import SparkSession\n",
    "from pyspark.sql.types import StructType, StructField, LongType, StringType, DoubleType, DecimalType, TimestampType, DataType, IntegerType\n",
    "from pyspark.sql.functions import col, lit, trim, substring, concat, udf, upper, initcap\n",
    "from datetime import datetime\n",
    "import os"
   ]
  },
  {
   "cell_type": "code",
   "execution_count": 3,
   "metadata": {},
   "outputs": [
    {
     "name": "stderr",
     "output_type": "stream",
     "text": [
      "WARNING: An illegal reflective access operation has occurred\n",
      "WARNING: Illegal reflective access by org.apache.spark.unsafe.Platform (file:/usr/local/spark-3.1.2-bin-hadoop3.2/jars/spark-unsafe_2.12-3.1.2.jar) to constructor java.nio.DirectByteBuffer(long,int)\n",
      "WARNING: Please consider reporting this to the maintainers of org.apache.spark.unsafe.Platform\n",
      "WARNING: Use --illegal-access=warn to enable warnings of further illegal reflective access operations\n",
      "WARNING: All illegal access operations will be denied in a future release\n",
      "22/11/30 01:51:07 WARN NativeCodeLoader: Unable to load native-hadoop library for your platform... using builtin-java classes where applicable\n",
      "Using Spark's default log4j profile: org/apache/spark/log4j-defaults.properties\n",
      "Setting default log level to \"WARN\".\n",
      "To adjust logging level use sc.setLogLevel(newLevel). For SparkR, use setLogLevel(newLevel).\n",
      "22/11/30 01:51:07 WARN Utils: Service 'SparkUI' could not bind on port 4040. Attempting port 4041.\n",
      "22/11/30 01:51:07 WARN Utils: Service 'SparkUI' could not bind on port 4041. Attempting port 4042.\n",
      "22/11/30 01:51:07 WARN Utils: Service 'SparkUI' could not bind on port 4042. Attempting port 4043.\n",
      "22/11/30 01:51:07 WARN Utils: Service 'SparkUI' could not bind on port 4043. Attempting port 4044.\n"
     ]
    }
   ],
   "source": [
    "conf = SparkConf() \\\n",
    "    .setAppName(\"projeto_pbi\") \\\n",
    "    .setSparkHome('./spark/home')\n",
    "\n",
    "LAKE_HOME = os.getenv(\"LAKE_HOME\", \"/spark/home\")\n",
    "\n",
    "sc = SparkContext.getOrCreate(conf=conf)\n",
    "spark = SparkSession(sc)"
   ]
  },
  {
   "cell_type": "code",
   "execution_count": 4,
   "metadata": {},
   "outputs": [],
   "source": [
    "TABLE_NAME = 'fact_order_item'\n",
    "\n",
    "def create_sk(spark, df, key_column_name, table_name):\n",
    "    sk = {}\n",
    "    sk = df.select(col(key_column_name).alias(\"key\")).rdd.zipWithIndex()\n",
    "    new_sk = sk.map(lambda row: list(row[0]) + [row[1] + 1])\n",
    "    new_sk_map = new_sk.collectAsMap()\n",
    "\n",
    "    sk_schema = \\\n",
    "        StructType(\n",
    "            [StructField('key', StringType(), True),\n",
    "            StructField('SK', LongType(), True)]\n",
    "        )\n",
    "\n",
    "    sk_frame = spark.createDataFrame(new_sk, sk_schema)\n",
    "    sk_frame.write.mode('overwrite').csv('{}/dataset/e-commerce/02_surrogate_key/sk_{}.csv'.format(LAKE_HOME, table_name), header=True)\n",
    "\n",
    "    return new_sk_map\n",
    "\n",
    "def locate_sk(mapping: dict):\n",
    "    return udf(lambda x: mapping.get(x), IntegerType())\n",
    "\n",
    "\n",
    "def map_sk(spark, table_name):\n",
    "    sk_table = spark.read.csv('{}/dataset/e-commerce/02_surrogate_key/sk_{}.csv'.format(LAKE_HOME, table_name), header=True)\n",
    "    dict_sk = sk_table.rdd.map(lambda x: (x[0], int(x[1]))).collectAsMap()\n",
    "    return dict_sk"
   ]
  },
  {
   "cell_type": "code",
   "execution_count": 5,
   "metadata": {},
   "outputs": [
    {
     "name": "stderr",
     "output_type": "stream",
     "text": [
      "                                                                                \r"
     ]
    }
   ],
   "source": [
    "df = spark.read.csv('{}/dataset/e-commerce/01_extract/order_items_dataset.csv'.format(LAKE_HOME), header=True)\n",
    "\n",
    "df_item = \\\n",
    "    df.select(\n",
    "        col('order_id').cast(StringType()).alias('ID_ORDER'),\n",
    "        col('order_item_id').cast(StringType()).alias('NUM_ORDER_ITEM'),\n",
    "        col('product_id').cast(StringType()).alias('ID_PRODUCT'),\n",
    "        col('seller_id').cast(StringType()).alias('ID_SELLER'),\n",
    "        col('shipping_limit_date').cast(TimestampType()).alias('DAT_SHIPPING_LIMIT'),\n",
    "        col('price').cast(DecimalType(15,2)).alias('VAL_PRICE'),\n",
    "        col('freight_value').cast(DecimalType(15,2)).alias('VAL_FREIGHT'),\n",
    "    )\n",
    "\n",
    "order_sk = map_sk(spark=spark, table_name='fact_order')\n",
    "product_sk = map_sk(spark=spark, table_name='dim_product')\n",
    "seller_sk = map_sk(spark=spark, table_name='dim_seller')"
   ]
  },
  {
   "cell_type": "code",
   "execution_count": 6,
   "metadata": {},
   "outputs": [],
   "source": [
    "fact_order_item = \\\n",
    "    df_item \\\n",
    "        .withColumn('SK_ORDER', locate_sk(order_sk)(col('ID_ORDER'))) \\\n",
    "        .withColumn('SK_PRODUCT', locate_sk(product_sk)(col('ID_PRODUCT'))) \\\n",
    "        .withColumn('SK_SELLER', locate_sk(seller_sk)(col('ID_SELLER')))"
   ]
  },
  {
   "cell_type": "code",
   "execution_count": 7,
   "metadata": {},
   "outputs": [
    {
     "name": "stderr",
     "output_type": "stream",
     "text": [
      "                                                                                \r"
     ]
    }
   ],
   "source": [
    "fact_order_item = \\\n",
    "    fact_order_item.select(\n",
    "            col('SK_ORDER'),\n",
    "            col('SK_PRODUCT'),\n",
    "            col('SK_SELLER'),\n",
    "            col('NUM_ORDER_ITEM'),\n",
    "            col('DAT_SHIPPING_LIMIT'),\n",
    "            col('VAL_PRICE'),\n",
    "            col('VAL_FREIGHT'),  \n",
    "        )\n",
    "\n",
    "fact_order_item.write.mode('overwrite').csv('{}/dataset/e-commerce/04_fact/{}.csv'.format(LAKE_HOME, TABLE_NAME), header=True)"
   ]
  },
  {
   "cell_type": "code",
   "execution_count": 8,
   "metadata": {},
   "outputs": [
    {
     "name": "stdout",
     "output_type": "stream",
     "text": [
      "+--------+----------+---------+--------------+-------------------+---------+-----------+\n",
      "|SK_ORDER|SK_PRODUCT|SK_SELLER|NUM_ORDER_ITEM| DAT_SHIPPING_LIMIT|VAL_PRICE|VAL_FREIGHT|\n",
      "+--------+----------+---------+--------------+-------------------+---------+-----------+\n",
      "|   85268|     25866|      514|             1|2017-09-19 09:45:35|    58.90|      13.29|\n",
      "|   71854|     27231|      472|             1|2017-05-03 11:05:13|   239.90|      19.93|\n",
      "|    6299|     22625|     1825|             1|2018-01-18 14:48:30|   199.00|      17.87|\n",
      "|   22551|     15404|     2024|             1|2018-08-15 10:10:18|    12.99|      12.79|\n",
      "|    5248|      8863|     1598|             1|2017-02-13 13:57:51|   199.90|      18.14|\n",
      "|   69450|      3940|      660|             1|2017-05-23 03:55:27|    21.90|      12.69|\n",
      "|   98567|     22293|     2974|             1|2017-12-14 12:10:31|    19.90|      11.85|\n",
      "|   47317|      6975|      692|             1|2018-07-10 12:30:45|   810.00|      70.75|\n",
      "|   92214|      2714|       68|             1|2018-03-26 18:31:29|   145.95|      11.65|\n",
      "|   83216|     28256|     1158|             1|2018-07-06 14:10:56|    53.99|      11.40|\n",
      "|   47814|     14395|     1414|             1|2018-03-29 22:28:09|    59.99|       8.88|\n",
      "|   27413|     23294|      849|             1|2018-07-31 17:30:39|    45.00|      12.98|\n",
      "|   22540|      9662|     2464|             1|2018-07-26 17:24:20|    74.00|      23.32|\n",
      "|   53958|      4599|      475|             1|2018-02-21 02:55:52|    49.90|      13.37|\n",
      "|   53958|      4599|      475|             2|2018-02-21 02:55:52|    49.90|      13.37|\n",
      "|   46177|      1132|     2122|             1|2018-08-17 12:15:10|    99.90|      27.65|\n",
      "|   42592|      9419|     1522|             1|2018-05-02 09:31:53|   639.00|      11.34|\n",
      "|   97104|     30286|      999|             1|2018-05-16 20:57:03|   144.00|       8.77|\n",
      "|   99376|      1403|     2494|             1|2017-08-21 03:33:13|    99.00|      13.71|\n",
      "|   35599|      2781|     1055|             1|2018-02-28 12:08:37|    25.00|      16.11|\n",
      "+--------+----------+---------+--------------+-------------------+---------+-----------+\n",
      "only showing top 20 rows\n",
      "\n"
     ]
    },
    {
     "name": "stderr",
     "output_type": "stream",
     "text": [
      "Traceback (most recent call last):\n",
      "  File \"/usr/local/spark/python/lib/pyspark.zip/pyspark/daemon.py\", line 186, in manager\n",
      "  File \"/usr/local/spark/python/lib/pyspark.zip/pyspark/daemon.py\", line 74, in worker\n",
      "  File \"/usr/local/spark/python/lib/pyspark.zip/pyspark/worker.py\", line 643, in main\n",
      "    if read_int(infile) == SpecialLengths.END_OF_STREAM:\n",
      "  File \"/usr/local/spark/python/lib/pyspark.zip/pyspark/serializers.py\", line 564, in read_int\n",
      "    raise EOFError\n",
      "EOFError\n"
     ]
    }
   ],
   "source": [
    "fact_order_item.show()"
   ]
  }
 ],
 "metadata": {
  "kernelspec": {
   "display_name": "Python 3 (ipykernel)",
   "language": "python",
   "name": "python3"
  },
  "orig_nbformat": 4,
  "vscode": {
   "interpreter": {
    "hash": "d6f609d767e496b0113aff1f64a0dfe094cfd999fa1fbc24e122cf419b6d573c"
   }
  }
 },
 "nbformat": 4,
 "nbformat_minor": 2
}
