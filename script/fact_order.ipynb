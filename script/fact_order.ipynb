{
 "cells": [
  {
   "cell_type": "code",
   "execution_count": 122,
   "metadata": {},
   "outputs": [],
   "source": [
    "#%run ./lib.py"
   ]
  },
  {
   "cell_type": "code",
   "execution_count": 123,
   "metadata": {},
   "outputs": [],
   "source": [
    "from pyspark import SparkConf, SparkContext\n",
    "from pyspark.sql.session import SparkSession\n",
    "from pyspark.sql.types import StructType, StructField, LongType, StringType, DoubleType, DecimalType, TimestampType, DataType, IntegerType\n",
    "from pyspark.sql.functions import col, lit, trim, substring, concat, udf, upper, initcap\n",
    "from datetime import datetime\n",
    "import os"
   ]
  },
  {
   "cell_type": "code",
   "execution_count": 124,
   "metadata": {},
   "outputs": [],
   "source": [
    "conf = SparkConf() \\\n",
    "    .setAppName(\"projeto_pbi\") \\\n",
    "    .setSparkHome('./spark/home')\n",
    "\n",
    "LAKE_HOME = os.getenv(\"LAKE_HOME\", \"/spark/home\")\n",
    "\n",
    "sc = SparkContext.getOrCreate(conf=conf)\n",
    "spark = SparkSession(sc)"
   ]
  },
  {
   "cell_type": "code",
   "execution_count": 125,
   "metadata": {},
   "outputs": [],
   "source": [
    "TABLE_NAME = 'fact_order'\n",
    "\n",
    "def create_sk(spark, df, key_column_name, table_name):\n",
    "    sk = {}\n",
    "    sk = df.select(col(key_column_name).alias(\"key\")).rdd.zipWithIndex()\n",
    "    new_sk = sk.map(lambda row: list(row[0]) + [row[1] + 1])\n",
    "    new_sk_map = new_sk.collectAsMap()\n",
    "\n",
    "    sk_schema = \\\n",
    "        StructType(\n",
    "            [StructField('key', StringType(), True),\n",
    "            StructField('SK', LongType(), True)]\n",
    "        )\n",
    "\n",
    "    sk_frame = spark.createDataFrame(new_sk, sk_schema)\n",
    "    sk_frame.write.mode('overwrite').csv('{}/dataset/e-commerce/02_surrogate_key/sk_{}.csv'.format(LAKE_HOME, table_name), header=True)\n",
    "\n",
    "    return new_sk_map\n",
    "\n",
    "def locate_sk(mapping: dict):\n",
    "    return udf(lambda x: mapping.get(x), IntegerType())\n",
    "\n",
    "\n",
    "def map_sk(spark, table_name):\n",
    "    sk_table = spark.read.csv('{}/dataset/e-commerce/02_surrogate_key/sk_{}.csv'.format(LAKE_HOME, table_name), header=True)\n",
    "    dict_sk = sk_table.rdd.map(lambda x: (x[0], int(x[1]))).collectAsMap()\n",
    "    return dict_sk"
   ]
  },
  {
   "cell_type": "code",
   "execution_count": 126,
   "metadata": {},
   "outputs": [],
   "source": [
    "df = spark.read.csv('{}/dataset/e-commerce/01_extract/orders_dataset.csv'.format(LAKE_HOME), header=True)\n",
    "\n",
    "df_order = \\\n",
    "    df.select(\n",
    "        col('order_id').cast(StringType()).alias('ID_ORDER'),\n",
    "        col('customer_id').cast(StringType()).alias('ID_CUSTOMER'),\n",
    "        col('order_status').cast(StringType()).alias('ORD_STATUS'),\n",
    "        col('order_purchase_timestamp').cast(TimestampType()).alias('DAT_PURCHASE'),\n",
    "        col('order_approved_at').cast(TimestampType()).alias('DAT_APPROVED'),\n",
    "        col('order_delivered_carrier_date').cast(TimestampType()).alias('DAT_SHIPPED'),\n",
    "        col('order_delivered_customer_date').cast(TimestampType()).alias('DAT_DELIVERED'),\n",
    "        col('order_estimated_delivery_date').cast(TimestampType()).alias('DAT_ESTIMATED_DELIVERY')\n",
    "    )\n",
    "\n",
    "customer_sk = map_sk(spark=spark, table_name='dim_customer')"
   ]
  },
  {
   "cell_type": "code",
   "execution_count": 138,
   "metadata": {},
   "outputs": [
    {
     "name": "stderr",
     "output_type": "stream",
     "text": [
      "                                                                                \r"
     ]
    }
   ],
   "source": [
    "sk = create_sk(spark=spark, df=df_order, key_column_name='ID_ORDER', table_name=TABLE_NAME)\n",
    "\n",
    "fact_order = \\\n",
    "    df_order \\\n",
    "        .withColumn('SK_ORDER', locate_sk(sk)(col('ID_ORDER'))) \\\n",
    "        .withColumn('SK_CUSTOMER', locate_sk(customer_sk)(col('ID_CUSTOMER')))"
   ]
  },
  {
   "cell_type": "code",
   "execution_count": 140,
   "metadata": {},
   "outputs": [
    {
     "name": "stderr",
     "output_type": "stream",
     "text": [
      "                                                                                \r"
     ]
    }
   ],
   "source": [
    "fact_order = \\\n",
    "    fact_order.select(\n",
    "        col('SK_ORDER'),\n",
    "        col('SK_CUSTOMER'),\n",
    "        col('ID_ORDER'),\n",
    "        col('ID_CUSTOMER'),\n",
    "        col('ORD_STATUS'),\n",
    "        col('DAT_PURCHASE'),\n",
    "        col('DAT_APPROVED'),\n",
    "        col('DAT_SHIPPED'),\n",
    "        col('DAT_DELIVERED'),\n",
    "        col('DAT_ESTIMATED_DELIVERY'),   \n",
    "    )\n",
    "\n",
    "fact_order.write.mode('overwrite').csv('{}/dataset/e-commerce/03_dim/{}.csv'.format(LAKE_HOME, TABLE_NAME), header=True)"
   ]
  }
 ],
 "metadata": {
  "kernelspec": {
   "display_name": "Python 3 (ipykernel)",
   "language": "python",
   "name": "python3"
  },
  "language_info": {
   "codemirror_mode": {
    "name": "ipython",
    "version": 3
   },
   "file_extension": ".py",
   "mimetype": "text/x-python",
   "name": "python",
   "nbconvert_exporter": "python",
   "pygments_lexer": "ipython3",
   "version": "3.9.7"
  },
  "orig_nbformat": 4,
  "vscode": {
   "interpreter": {
    "hash": "d6f609d767e496b0113aff1f64a0dfe094cfd999fa1fbc24e122cf419b6d573c"
   }
  }
 },
 "nbformat": 4,
 "nbformat_minor": 2
}
