{
 "cells": [
  {
   "cell_type": "code",
   "execution_count": 25,
   "metadata": {},
   "outputs": [],
   "source": [
    "#%run ./lib.py"
   ]
  },
  {
   "cell_type": "code",
   "execution_count": 26,
   "metadata": {},
   "outputs": [],
   "source": [
    "from pyspark import SparkConf, SparkContext\n",
    "from pyspark.sql.session import SparkSession\n",
    "from pyspark.sql.types import StructType, StructField, LongType, StringType, DoubleType, DecimalType, TimestampType, DataType, IntegerType\n",
    "from pyspark.sql.functions import col, lit, trim, substring, concat, udf, upper, initcap\n",
    "from datetime import datetime\n",
    "import os"
   ]
  },
  {
   "cell_type": "code",
   "execution_count": 27,
   "metadata": {},
   "outputs": [],
   "source": [
    "conf = SparkConf() \\\n",
    "    .setAppName(\"projeto_pbi\") \\\n",
    "    .setSparkHome('./spark/home')\n",
    "\n",
    "LAKE_HOME = os.getenv(\"LAKE_HOME\", \"/spark/home\")\n",
    "\n",
    "sc = SparkContext.getOrCreate(conf=conf)\n",
    "spark = SparkSession(sc)"
   ]
  },
  {
   "cell_type": "code",
   "execution_count": 28,
   "metadata": {},
   "outputs": [],
   "source": [
    "TABLE_NAME = 'dim_product'\n",
    "\n",
    "def create_sk(spark, df, key_column_name, table_name):\n",
    "    sk = {}\n",
    "    sk = df.select(col(key_column_name).alias(\"key\")).rdd.zipWithIndex()\n",
    "    new_sk = sk.map(lambda row: list(row[0]) + [row[1] + 1])\n",
    "    new_sk_map = new_sk.collectAsMap()\n",
    "\n",
    "    sk_schema = \\\n",
    "        StructType(\n",
    "            [StructField('key', StringType(), True),\n",
    "            StructField('SK', LongType(), True)]\n",
    "        )\n",
    "\n",
    "    sk_frame = spark.createDataFrame(new_sk, sk_schema)\n",
    "    sk_frame.write.mode('overwrite').csv('{}/dataset/e-commerce/02_surrogate_key/sk_{}.csv'.format(LAKE_HOME, table_name), header=True)\n",
    "\n",
    "    return new_sk_map\n",
    "\n",
    "def locate_sk(mapping: dict):\n",
    "    return udf(lambda x: mapping.get(x), IntegerType())"
   ]
  },
  {
   "cell_type": "code",
   "execution_count": 29,
   "metadata": {},
   "outputs": [],
   "source": [
    "df = spark.read.csv('{}/dataset/e-commerce/01_extract/products_dataset.csv'.format(LAKE_HOME), header=True)\n",
    "\n",
    "df_product = \\\n",
    "    df.select(\n",
    "        col('product_id').cast(StringType()).alias('ID_PRODUCT'),\n",
    "        col('product_category_name').cast(StringType()).alias('DES_CATEGORY'),\n",
    "        col('product_name_lenght').cast(StringType()).alias('DES_PRODUCT_SHORT'),\n",
    "        col('product_description_lenght').cast(StringType()).alias('DES_PRODUCT_LONG'),\n",
    "        col('product_weight_g').cast(DecimalType()).alias('VOL_WEIGHT_G'),\n",
    "        col('product_length_cm').cast(DecimalType()).alias('DIM_LENGTH_CM'),\n",
    "        col('product_height_cm').cast(DecimalType()).alias('DIM_HEIGHT_CM'),\n",
    "        col('product_width_cm').cast(DecimalType()).alias('DIM_WIDTH_CM')\n",
    "    )\n",
    "\n",
    "sk = create_sk(spark=spark, df=df_product, key_column_name='ID_PRODUCT', table_name=TABLE_NAME)"
   ]
  },
  {
   "cell_type": "code",
   "execution_count": 30,
   "metadata": {},
   "outputs": [],
   "source": [
    "dim_product = \\\n",
    "    df_product \\\n",
    "        .withColumn('SK_PRODUCT', locate_sk(sk)(col('ID_PRODUCT')))"
   ]
  },
  {
   "cell_type": "code",
   "execution_count": 31,
   "metadata": {},
   "outputs": [],
   "source": [
    "dim_product = \\\n",
    "    dim_product.select(\n",
    "        col('SK_PRODUCT'),\n",
    "        col('ID_PRODUCT'),\n",
    "        col('DES_CATEGORY'),\n",
    "        col('DES_PRODUCT_SHORT'),\n",
    "        col('DES_PRODUCT_LONG'),\n",
    "        col('VOL_WEIGHT_G'),\n",
    "        col('DIM_LENGTH_CM'),\n",
    "        col('DIM_HEIGHT_CM'),\n",
    "        col('DIM_WIDTH_CM'),   \n",
    "    )\n",
    "\n",
    "dim_product.write.mode('overwrite').csv('{}/dataset/e-commerce/03_dim/{}.csv'.format(LAKE_HOME, TABLE_NAME), header=True)"
   ]
  }
 ],
 "metadata": {
  "kernelspec": {
   "display_name": "Python 3 (ipykernel)",
   "language": "python",
   "name": "python3"
  },
  "orig_nbformat": 4,
  "vscode": {
   "interpreter": {
    "hash": "d6f609d767e496b0113aff1f64a0dfe094cfd999fa1fbc24e122cf419b6d573c"
   }
  }
 },
 "nbformat": 4,
 "nbformat_minor": 2
}
