{
 "cells": [
  {
   "cell_type": "code",
   "execution_count": 17,
   "metadata": {},
   "outputs": [],
   "source": [
    "#%run ./lib.py"
   ]
  },
  {
   "cell_type": "code",
   "execution_count": 18,
   "metadata": {},
   "outputs": [],
   "source": [
    "from pyspark import SparkConf, SparkContext\n",
    "from pyspark.sql.session import SparkSession\n",
    "from pyspark.sql.types import StructType, StructField, LongType, StringType, DoubleType, DecimalType, TimestampType, DataType, IntegerType\n",
    "from pyspark.sql.functions import col, lit, trim, substring, concat, udf, upper, initcap\n",
    "from datetime import datetime\n",
    "import os"
   ]
  },
  {
   "cell_type": "code",
   "execution_count": 19,
   "metadata": {},
   "outputs": [],
   "source": [
    "conf = SparkConf() \\\n",
    "    .setAppName(\"projeto_pbi\") \\\n",
    "    .setSparkHome('./spark/home')\n",
    "\n",
    "LAKE_HOME = os.getenv(\"LAKE_HOME\", \"/spark/home\")\n",
    "\n",
    "sc = SparkContext.getOrCreate(conf=conf)\n",
    "spark = SparkSession(sc)"
   ]
  },
  {
   "cell_type": "code",
   "execution_count": 20,
   "metadata": {},
   "outputs": [],
   "source": [
    "TABLE_NAME = 'fact_order_payment'\n",
    "\n",
    "def create_sk(spark, df, key_column_name, table_name):\n",
    "    sk = {}\n",
    "    sk = df.select(col(key_column_name).alias(\"key\")).rdd.zipWithIndex()\n",
    "    new_sk = sk.map(lambda row: list(row[0]) + [row[1] + 1])\n",
    "    new_sk_map = new_sk.collectAsMap()\n",
    "\n",
    "    sk_schema = \\\n",
    "        StructType(\n",
    "            [StructField('key', StringType(), True),\n",
    "            StructField('SK', LongType(), True)]\n",
    "        )\n",
    "\n",
    "    sk_frame = spark.createDataFrame(new_sk, sk_schema)\n",
    "    sk_frame.write.mode('overwrite').csv('{}/dataset/e-commerce/02_surrogate_key/sk_{}.csv'.format(LAKE_HOME, table_name), header=True)\n",
    "\n",
    "    return new_sk_map\n",
    "\n",
    "def locate_sk(mapping: dict):\n",
    "    return udf(lambda x: mapping.get(x), IntegerType())\n",
    "\n",
    "\n",
    "def map_sk(spark, table_name):\n",
    "    sk_table = spark.read.csv('{}/dataset/e-commerce/02_surrogate_key/sk_{}.csv'.format(LAKE_HOME, table_name), header=True)\n",
    "    dict_sk = sk_table.rdd.map(lambda x: (x[0], int(x[1]))).collectAsMap()\n",
    "    return dict_sk"
   ]
  },
  {
   "cell_type": "code",
   "execution_count": 21,
   "metadata": {},
   "outputs": [],
   "source": [
    "df = spark.read.csv('{}/dataset/e-commerce/01_extract/order_payments_dataset.csv'.format(LAKE_HOME), header=True)\n",
    "\n",
    "df_payment = \\\n",
    "    df.select(\n",
    "        col('order_id').cast(StringType()).alias('ID_ORDER'),\n",
    "        col('payment_type').cast(StringType()).alias('DES_PAYMENT_TYPE'),\n",
    "        col('payment_installments').cast(IntegerType()).alias('QTT_INSTALLMENT'),\n",
    "        col('payment_value').cast(DecimalType(15,2)).alias('VAL_PAYMENT'),\n",
    "    )\n",
    "\n",
    "order_sk = map_sk(spark=spark, table_name='fact_order')"
   ]
  },
  {
   "cell_type": "code",
   "execution_count": 22,
   "metadata": {},
   "outputs": [],
   "source": [
    "fact_order_payment = \\\n",
    "    df_payment \\\n",
    "        .withColumn('SK_ORDER', locate_sk(order_sk)(col('ID_ORDER')))"
   ]
  },
  {
   "cell_type": "code",
   "execution_count": 23,
   "metadata": {},
   "outputs": [],
   "source": [
    "fact_order_payment = \\\n",
    "    fact_order_payment.select(\n",
    "            col('SK_ORDER'),\n",
    "            col('DES_PAYMENT_TYPE'),\n",
    "            col('QTT_INSTALLMENT'),\n",
    "            col('VAL_PAYMENT'),  \n",
    "        )\n",
    "\n",
    "fact_order_payment.write.mode('overwrite').csv('{}/dataset/e-commerce/04_fact/{}.csv'.format(LAKE_HOME, TABLE_NAME), header=True)"
   ]
  }
 ],
 "metadata": {
  "kernelspec": {
   "display_name": "Python 3 (ipykernel)",
   "language": "python",
   "name": "python3"
  },
  "language_info": {
   "codemirror_mode": {
    "name": "ipython",
    "version": 3
   },
   "file_extension": ".py",
   "mimetype": "text/x-python",
   "name": "python",
   "nbconvert_exporter": "python",
   "pygments_lexer": "ipython3",
   "version": "3.9.7"
  },
  "orig_nbformat": 4,
  "vscode": {
   "interpreter": {
    "hash": "d6f609d767e496b0113aff1f64a0dfe094cfd999fa1fbc24e122cf419b6d573c"
   }
  }
 },
 "nbformat": 4,
 "nbformat_minor": 2
}
