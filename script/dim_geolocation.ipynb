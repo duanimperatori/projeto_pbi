{
 "cells": [
  {
   "cell_type": "code",
   "execution_count": 13,
   "metadata": {},
   "outputs": [],
   "source": [
    "%run ./work/lib.py"
   ]
  },
  {
   "cell_type": "code",
   "execution_count": 14,
   "metadata": {},
   "outputs": [],
   "source": [
    "from pyspark import SparkConf, SparkContext\n",
    "from pyspark.sql.session import SparkSession\n",
    "from pyspark.sql.types import StructType, StructField, LongType, StringType, DoubleType, DecimalType, TimestampType, DataType, IntegerType, FloatType\n",
    "from pyspark.sql.functions import col, lit, trim, substring, concat, udf, upper, initcap\n",
    "from datetime import datetime\n",
    "import os"
   ]
  },
  {
   "cell_type": "code",
   "execution_count": 15,
   "metadata": {},
   "outputs": [],
   "source": [
    "conf = SparkConf() \\\n",
    "    .setAppName(\"projeto_pbi\") \\\n",
    "    .setSparkHome('./spark/home')\n",
    "\n",
    "LAKE_HOME = os.getenv(\"LAKE_HOME\", \"/spark/home\")\n",
    "\n",
    "sc = SparkContext.getOrCreate(conf=conf)\n",
    "spark = SparkSession(sc)"
   ]
  },
  {
   "cell_type": "code",
   "execution_count": 16,
   "metadata": {},
   "outputs": [],
   "source": [
    "TABLE_NAME = 'dim_geolocation'"
   ]
  },
  {
   "cell_type": "code",
   "execution_count": 17,
   "metadata": {},
   "outputs": [
    {
     "name": "stderr",
     "output_type": "stream",
     "text": [
      "                                                                                \r"
     ]
    }
   ],
   "source": [
    "df = spark.read.csv('{}/dataset/e-commerce/01_extract/geolocation_dataset.csv'.format(LAKE_HOME), header=True)\n",
    "\n",
    "df_geolocation = \\\n",
    "    df.select(\n",
    "        col('geolocation_zip_code_prefix').cast(StringType()).alias('ID_ZIP_CODE'),\n",
    "        col('geolocation_lat').cast(StringType()).alias('GEO_LATITUDE'),\n",
    "        col('geolocation_lng').cast(StringType()).alias('GEO_LONGITUDE'),\n",
    "        col('geolocation_city').cast(StringType()).alias('DES_CITY'),\n",
    "        col('geolocation_state').cast(StringType()).alias('COD_STATE')\n",
    "    )\n",
    "\n",
    "sk = create_sk(spark=spark, df=df_geolocation, key_column_name='ID_ZIP_CODE', table_name=TABLE_NAME)"
   ]
  },
  {
   "cell_type": "code",
   "execution_count": 18,
   "metadata": {},
   "outputs": [],
   "source": [
    "dim_geolocation = \\\n",
    "    df_geolocation \\\n",
    "        .withColumn('SK_GEOLOCATION', locate_sk(sk)(col('ID_ZIP_CODE')))"
   ]
  },
  {
   "cell_type": "code",
   "execution_count": 19,
   "metadata": {},
   "outputs": [
    {
     "name": "stderr",
     "output_type": "stream",
     "text": [
      "                                                                                \r"
     ]
    }
   ],
   "source": [
    "dim_geolocation = \\\n",
    "    dim_geolocation.select(\n",
    "        col('SK_GEOLOCATION'),\n",
    "        col('ID_ZIP_CODE'),\n",
    "        col('GEO_LATITUDE'),\n",
    "        col('GEO_LONGITUDE'),\n",
    "        col('DES_CITY'),\n",
    "        col('COD_STATE')  \n",
    "    )\n",
    "\n",
    "dim_geolocation.write.mode('overwrite').csv('{}/dataset/e-commerce/03_dim/{}.csv'.format(LAKE_HOME, TABLE_NAME), header=True)"
   ]
  },
  {
   "cell_type": "code",
   "execution_count": 20,
   "metadata": {},
   "outputs": [],
   "source": [
    "spark.stop()"
   ]
  }
 ],
 "metadata": {
  "kernelspec": {
   "display_name": "Python 3 (ipykernel)",
   "language": "python",
   "name": "python3"
  },
  "language_info": {
   "codemirror_mode": {
    "name": "ipython",
    "version": 3
   },
   "file_extension": ".py",
   "mimetype": "text/x-python",
   "name": "python",
   "nbconvert_exporter": "python",
   "pygments_lexer": "ipython3",
   "version": "3.9.7"
  },
  "orig_nbformat": 4,
  "vscode": {
   "interpreter": {
    "hash": "d6f609d767e496b0113aff1f64a0dfe094cfd999fa1fbc24e122cf419b6d573c"
   }
  }
 },
 "nbformat": 4,
 "nbformat_minor": 2
}
