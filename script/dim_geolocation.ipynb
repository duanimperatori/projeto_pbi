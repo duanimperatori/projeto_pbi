{
 "cells": [
  {
   "cell_type": "code",
   "execution_count": 1,
   "metadata": {},
   "outputs": [],
   "source": [
    "#%run ./lib.py"
   ]
  },
  {
   "cell_type": "code",
   "execution_count": 2,
   "metadata": {},
   "outputs": [],
   "source": [
    "from pyspark import SparkConf, SparkContext\n",
    "from pyspark.sql.session import SparkSession\n",
    "from pyspark.sql.types import StructType, StructField, LongType, StringType, DoubleType, DecimalType, TimestampType, DataType, IntegerType, FloatType\n",
    "from pyspark.sql.functions import col, lit, trim, substring, concat, udf, upper, initcap\n",
    "from datetime import datetime\n",
    "import os"
   ]
  },
  {
   "cell_type": "code",
   "execution_count": 3,
   "metadata": {},
   "outputs": [
    {
     "name": "stderr",
     "output_type": "stream",
     "text": [
      "WARNING: An illegal reflective access operation has occurred\n",
      "WARNING: Illegal reflective access by org.apache.spark.unsafe.Platform (file:/usr/local/spark-3.1.2-bin-hadoop3.2/jars/spark-unsafe_2.12-3.1.2.jar) to constructor java.nio.DirectByteBuffer(long,int)\n",
      "WARNING: Please consider reporting this to the maintainers of org.apache.spark.unsafe.Platform\n",
      "WARNING: Use --illegal-access=warn to enable warnings of further illegal reflective access operations\n",
      "WARNING: All illegal access operations will be denied in a future release\n",
      "22/11/30 01:53:24 WARN NativeCodeLoader: Unable to load native-hadoop library for your platform... using builtin-java classes where applicable\n",
      "Using Spark's default log4j profile: org/apache/spark/log4j-defaults.properties\n",
      "Setting default log level to \"WARN\".\n",
      "To adjust logging level use sc.setLogLevel(newLevel). For SparkR, use setLogLevel(newLevel).\n",
      "22/11/30 01:53:25 WARN Utils: Service 'SparkUI' could not bind on port 4040. Attempting port 4041.\n",
      "22/11/30 01:53:25 WARN Utils: Service 'SparkUI' could not bind on port 4041. Attempting port 4042.\n",
      "22/11/30 01:53:25 WARN Utils: Service 'SparkUI' could not bind on port 4042. Attempting port 4043.\n",
      "22/11/30 01:53:25 WARN Utils: Service 'SparkUI' could not bind on port 4043. Attempting port 4044.\n",
      "22/11/30 01:53:25 WARN Utils: Service 'SparkUI' could not bind on port 4044. Attempting port 4045.\n"
     ]
    }
   ],
   "source": [
    "conf = SparkConf() \\\n",
    "    .setAppName(\"projeto_pbi\") \\\n",
    "    .setSparkHome('./spark/home')\n",
    "\n",
    "LAKE_HOME = os.getenv(\"LAKE_HOME\", \"/spark/home\")\n",
    "\n",
    "sc = SparkContext.getOrCreate(conf=conf)\n",
    "spark = SparkSession(sc)"
   ]
  },
  {
   "cell_type": "code",
   "execution_count": 4,
   "metadata": {},
   "outputs": [],
   "source": [
    "TABLE_NAME = 'dim_geolocation'\n",
    "\n",
    "def create_sk(spark, df, key_column_name, table_name):\n",
    "    sk = {}\n",
    "    sk = df.select(col(key_column_name).alias(\"key\")).rdd.zipWithIndex()\n",
    "    new_sk = sk.map(lambda row: list(row[0]) + [row[1] + 1])\n",
    "    new_sk_map = new_sk.collectAsMap()\n",
    "\n",
    "    sk_schema = \\\n",
    "        StructType(\n",
    "            [StructField('key', StringType(), True),\n",
    "            StructField('SK', LongType(), True)]\n",
    "        )\n",
    "\n",
    "    sk_frame = spark.createDataFrame(new_sk, sk_schema)\n",
    "    sk_frame.write.mode('overwrite').csv('{}/dataset/e-commerce/02_surrogate_key/sk_{}.csv'.format(LAKE_HOME, table_name), header=True)\n",
    "\n",
    "    return new_sk_map\n",
    "\n",
    "def locate_sk(mapping: dict):\n",
    "    return udf(lambda x: mapping.get(x), IntegerType())"
   ]
  },
  {
   "cell_type": "code",
   "execution_count": 5,
   "metadata": {},
   "outputs": [
    {
     "name": "stderr",
     "output_type": "stream",
     "text": [
      "                                                                                \r"
     ]
    }
   ],
   "source": [
    "df = spark.read.csv('{}/dataset/e-commerce/01_extract/geolocation_dataset.csv'.format(LAKE_HOME), header=True)\n",
    "\n",
    "df_geolocation = \\\n",
    "    df.select(\n",
    "        col('geolocation_zip_code_prefix').cast(StringType()).alias('ID_ZIP_CODE'),\n",
    "        col('geolocation_lat').cast(StringType()).alias('GEO_LATITUDE'),\n",
    "        col('geolocation_lng').cast(StringType()).alias('GEO_LONGITUDE'),\n",
    "        col('geolocation_city').cast(StringType()).alias('DES_CITY'),\n",
    "        col('geolocation_state').cast(StringType()).alias('COD_STATE')\n",
    "    )\n",
    "\n",
    "sk = create_sk(spark=spark, df=df_geolocation, key_column_name='ID_ZIP_CODE', table_name=TABLE_NAME)"
   ]
  },
  {
   "cell_type": "code",
   "execution_count": 6,
   "metadata": {},
   "outputs": [],
   "source": [
    "dim_geolocation = \\\n",
    "    df_geolocation \\\n",
    "        .withColumn('SK_GEOLOCATION', locate_sk(sk)(col('ID_ZIP_CODE')))"
   ]
  },
  {
   "cell_type": "code",
   "execution_count": 7,
   "metadata": {},
   "outputs": [
    {
     "name": "stderr",
     "output_type": "stream",
     "text": [
      "                                                                                \r"
     ]
    }
   ],
   "source": [
    "dim_geolocation = \\\n",
    "    dim_geolocation.select(\n",
    "        col('SK_GEOLOCATION'),\n",
    "        col('ID_ZIP_CODE'),\n",
    "        col('GEO_LATITUDE'),\n",
    "        col('GEO_LONGITUDE'),\n",
    "        col('DES_CITY'),\n",
    "        col('COD_STATE')  \n",
    "    )\n",
    "\n",
    "dim_geolocation.write.mode('overwrite').csv('{}/dataset/e-commerce/03_dim/{}.csv'.format(LAKE_HOME, TABLE_NAME), header=True)"
   ]
  }
 ],
 "metadata": {
  "kernelspec": {
   "display_name": "Python 3 (ipykernel)",
   "language": "python",
   "name": "python3"
  },
  "language_info": {
   "codemirror_mode": {
    "name": "ipython",
    "version": 3
   },
   "file_extension": ".py",
   "mimetype": "text/x-python",
   "name": "python",
   "nbconvert_exporter": "python",
   "pygments_lexer": "ipython3",
   "version": "3.9.7"
  },
  "orig_nbformat": 4,
  "vscode": {
   "interpreter": {
    "hash": "d6f609d767e496b0113aff1f64a0dfe094cfd999fa1fbc24e122cf419b6d573c"
   }
  }
 },
 "nbformat": 4,
 "nbformat_minor": 2
}
