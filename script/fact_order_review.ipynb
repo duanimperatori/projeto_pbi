{
 "cells": [
  {
   "cell_type": "code",
   "execution_count": 1,
   "metadata": {},
   "outputs": [],
   "source": [
    "%run ./work/lib.py"
   ]
  },
  {
   "cell_type": "code",
   "execution_count": 2,
   "metadata": {},
   "outputs": [],
   "source": [
    "from pyspark import SparkConf, SparkContext\n",
    "from pyspark.sql.session import SparkSession\n",
    "from pyspark.sql.types import StructType, StructField, LongType, StringType, DoubleType, DecimalType, TimestampType, DataType, IntegerType\n",
    "from pyspark.sql.functions import col, lit, trim, substring, concat, udf, upper, initcap\n",
    "from datetime import datetime\n",
    "import os"
   ]
  },
  {
   "cell_type": "code",
   "execution_count": 3,
   "metadata": {},
   "outputs": [
    {
     "name": "stderr",
     "output_type": "stream",
     "text": [
      "WARNING: An illegal reflective access operation has occurred\n",
      "WARNING: Illegal reflective access by org.apache.spark.unsafe.Platform (file:/usr/local/spark-3.1.2-bin-hadoop3.2/jars/spark-unsafe_2.12-3.1.2.jar) to constructor java.nio.DirectByteBuffer(long,int)\n",
      "WARNING: Please consider reporting this to the maintainers of org.apache.spark.unsafe.Platform\n",
      "WARNING: Use --illegal-access=warn to enable warnings of further illegal reflective access operations\n",
      "WARNING: All illegal access operations will be denied in a future release\n",
      "22/12/17 22:54:25 WARN NativeCodeLoader: Unable to load native-hadoop library for your platform... using builtin-java classes where applicable\n",
      "Using Spark's default log4j profile: org/apache/spark/log4j-defaults.properties\n",
      "Setting default log level to \"WARN\".\n",
      "To adjust logging level use sc.setLogLevel(newLevel). For SparkR, use setLogLevel(newLevel).\n",
      "22/12/17 22:54:25 WARN Utils: Service 'SparkUI' could not bind on port 4040. Attempting port 4041.\n"
     ]
    }
   ],
   "source": [
    "conf = SparkConf() \\\n",
    "    .setAppName(\"projeto_pbi\") \\\n",
    "    .setSparkHome('./spark/home')\n",
    "\n",
    "LAKE_HOME = os.getenv(\"LAKE_HOME\", \"/spark/home\")\n",
    "\n",
    "sc = SparkContext.getOrCreate(conf=conf)\n",
    "spark = SparkSession(sc)"
   ]
  },
  {
   "cell_type": "code",
   "execution_count": 4,
   "metadata": {},
   "outputs": [],
   "source": [
    "TABLE_NAME = 'fact_order_review'"
   ]
  },
  {
   "cell_type": "code",
   "execution_count": 5,
   "metadata": {},
   "outputs": [
    {
     "name": "stderr",
     "output_type": "stream",
     "text": [
      "                                                                                \r"
     ]
    }
   ],
   "source": [
    "df = spark.read.csv('{}/dataset/e-commerce/01_extract/order_reviews_dataset.csv'.format(LAKE_HOME), header=True)\n",
    "\n",
    "df_review = \\\n",
    "    df.select(\n",
    "        col('review_id').cast(StringType()).alias('ID_REVIEW'),\n",
    "        col('order_id').cast(StringType()).alias('ID_ORDER'),\n",
    "        col('review_score').cast(IntegerType()).alias('VAL_SCORE_REVIEW'),\n",
    "        col('review_creation_date').cast(TimestampType()).alias('DAT_CREATION'),\n",
    "        col('review_answer_timestamp').cast(TimestampType()).alias('DAT_ANSWER'),\n",
    "    )\\\n",
    "    .where(col('review_creation_date') != 'null')\n",
    "    \n",
    "\n",
    "order_sk = map_sk(spark=spark, table_name='fact_order')"
   ]
  },
  {
   "cell_type": "code",
   "execution_count": 6,
   "metadata": {},
   "outputs": [],
   "source": [
    "fact_order_review = \\\n",
    "    df_review \\\n",
    "        .withColumn('SK_ORDER', locate_sk(order_sk)(col('ID_ORDER')))"
   ]
  },
  {
   "cell_type": "code",
   "execution_count": 7,
   "metadata": {},
   "outputs": [
    {
     "name": "stderr",
     "output_type": "stream",
     "text": [
      "                                                                                \r"
     ]
    }
   ],
   "source": [
    "fact_order_review = \\\n",
    "    fact_order_review.select(\n",
    "            col('ID_REVIEW'),\n",
    "            col('SK_ORDER'),\n",
    "            col('VAL_SCORE_REVIEW'),\n",
    "            col('DAT_CREATION'),\n",
    "            col('DAT_ANSWER'),  \n",
    "        )\n",
    "\n",
    "fact_order_review.write.mode('overwrite').csv('{}/dataset/e-commerce/04_fact/{}.csv'.format(LAKE_HOME, TABLE_NAME), header=True)"
   ]
  },
  {
   "cell_type": "code",
   "execution_count": 8,
   "metadata": {},
   "outputs": [],
   "source": [
    "spark.stop()"
   ]
  }
 ],
 "metadata": {
  "kernelspec": {
   "display_name": "Python 3 (ipykernel)",
   "language": "python",
   "name": "python3"
  },
  "language_info": {
   "codemirror_mode": {
    "name": "ipython",
    "version": 3
   },
   "file_extension": ".py",
   "mimetype": "text/x-python",
   "name": "python",
   "nbconvert_exporter": "python",
   "pygments_lexer": "ipython3",
   "version": "3.9.7"
  },
  "orig_nbformat": 4,
  "vscode": {
   "interpreter": {
    "hash": "d6f609d767e496b0113aff1f64a0dfe094cfd999fa1fbc24e122cf419b6d573c"
   }
  }
 },
 "nbformat": 4,
 "nbformat_minor": 2
}
